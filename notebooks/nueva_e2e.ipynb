{
 "cells": [
  {
   "cell_type": "code",
   "execution_count": null,
   "metadata": {},
   "outputs": [],
   "source": [
    "# Fijate si te parece bien esto y si ya no te explota la memoria.\n",
    "# Traté de seguir tu línea pero no tocar nada de lo tuyo por las dudas\n",
    "# Hay que tomar muchas decisiones todavía, pero creo que va encaminándose\n",
    "# Cualquier cosa preguntame"
   ]
  },
  {
   "cell_type": "code",
   "execution_count": null,
   "metadata": {},
   "outputs": [],
   "source": [
    "import glob\n",
    "import pandas as pd\n",
    "import json\n",
    "import os\n",
    "import nltk\n",
    "from shutil import copyfile"
   ]
  },
  {
   "cell_type": "code",
   "execution_count": null,
   "metadata": {},
   "outputs": [],
   "source": [
    "# Descomentar si no se tiene el recurso\n",
    "#nltk.download(\"punkt\")"
   ]
  },
  {
   "cell_type": "code",
   "execution_count": null,
   "metadata": {},
   "outputs": [],
   "source": [
    "tags_mapping={\n",
    "    \"V\":{\n",
    "        \"subcategoria\":{\n",
    "            \"posicion\": 1\n",
    "        },\n",
    "        \"modo\": {\n",
    "            \"posicion\": 2,\n",
    "            \"I\": \"IND\",\n",
    "            \"S\": \"SUBJ\",\n",
    "            \"M\": \"IMP\",\n",
    "            \"N\": \"INF\",\n",
    "            \"G\": \"GDIO\",\n",
    "            \"P\":\"PPIO\"\n",
    "        },\n",
    "        \"tiempo\": {\n",
    "            \"posicion\": 3,\n",
    "            \"P\":\"presente\",\n",
    "            \"I\": \"imperfecto\",\n",
    "            \"F\": \"futuro\",\n",
    "            \"S\": \"pasado\",\n",
    "            \"C\": \"condicion\",\n",
    "            \"0\": \"atemp\"\n",
    "        },\n",
    "        \"persona\":{\n",
    "            \"posicion\": 4\n",
    "        },\n",
    "        \"numero\":{\n",
    "            \"posicion\": 5,\n",
    "            \"S\":\"sg\",\n",
    "            \"P\": \"pl\"\n",
    "        }\n",
    "    },\n",
    "    \"N\":{\n",
    "        \"subcategoria\":{ # esta subcategoría no la vamos a usar en principio porque freeling \n",
    "            # no tiene nombres propios, y puse para agregarlos aparte con otra categoría\n",
    "            # PropN, pero dejo esto acá por si eventualmente queremos usarlo.\n",
    "            \"posicion\": 1,\n",
    "            \"C\": \"COMUN\", \n",
    "            \"P\": \"PROPIO\"\n",
    "        },\n",
    "        \"genero\": {\n",
    "            \"posicion\": 2,\n",
    "            \"M\": \"masc\",\n",
    "            \"F\": \"fem\",\n",
    "            \"C\": \"?gen\"\n",
    "        },\n",
    "        \"numero\": {\n",
    "            \"posicion\": 3,\n",
    "            \"S\":\"sg\",\n",
    "            \"P\": \"pl\",\n",
    "            \"N\": \"inv\"\n",
    "        }\n",
    "    },\n",
    "    \"A\":{\n",
    "        \"subcategoria\":{\n",
    "            \"posicion\": 1,\n",
    "            \"Q\": \"calif\", \n",
    "            \"O\": \"ord\",\n",
    "            \"P\": \"pron\"\n",
    "        },\n",
    "        \"grado\": {\n",
    "            \"posicion\": 2,\n",
    "            \"A\": \"aum\",\n",
    "            \"D\": \"dim\",\n",
    "            \"C\": \"comp\",\n",
    "            \"S\": \"superl\"\n",
    "        },\n",
    "        \"genero\": {\n",
    "            \"posicion\": 3,\n",
    "            \"M\": \"masc\",\n",
    "            \"F\": \"fem\",\n",
    "            \"C\": \"?gen\"\n",
    "        },\n",
    "        \"numero\": {\n",
    "            \"posicion\": 4,\n",
    "            \"S\":\"sg\",\n",
    "            \"P\": \"pl\",\n",
    "            \"N\": \"inv\"\n",
    "        },\n",
    "        \"funcion\": { # This category denotes function in participles and adjectives but person in pronouns\n",
    "            \"posicion\": 5,\n",
    "            \"0\": \"adj\",\n",
    "            \"P\": \"part\"\n",
    "        }\n",
    "    }\n",
    "}"
   ]
  },
  {
   "cell_type": "code",
   "execution_count": null,
   "metadata": {},
   "outputs": [],
   "source": [
    "class MakeRule:\n",
    "    \n",
    "    def __init__(self,word_dict):\n",
    "        \n",
    "        self.tag = word_dict.get(\"tag\")\n",
    "        self.lemma = word_dict.get(\"lema\")\n",
    "        self.shape = word_dict.get(\"forma\")\n",
    "        self.category = self.tag[0]\n",
    "        self.mapping = tags_mapping.get(self.category)\n",
    "\n",
    "        if self.mapping:\n",
    "\n",
    "            for k in self.mapping.keys():\n",
    "                setattr(self,k,self._get_mapped_tag(k))\n",
    "\n",
    "            self.rule = self._make_rule()\n",
    "            \n",
    "        else:\n",
    "            self.rule = \"\"\n",
    "                \n",
    "    def _get_mapped_tag(self,rasgo):\n",
    "        rasgo_mapping = self.mapping.get(rasgo)\n",
    "        position_tag = rasgo_mapping.get(\"posicion\")\n",
    "        return rasgo_mapping.get(self.tag[position_tag],self.tag[position_tag])\n",
    "                \n",
    "    def _make_rule(self):\n",
    "        # Habría que agregar un elif por cada categoría a la que le definamos el mapeo de keys.\n",
    "        # Los atributos son las keys del diccionario. category, shape y lemma siempre se llaman\n",
    "        # así porque se definen antes (es para todas las clases de palabras igual)\n",
    "        # Está así cortado para que sea más legible, pero podría estar todo en una línea\n",
    "        if self.category == \"V\":\n",
    "            rule = f\"{self.category}[SUBCAT={self.subcategoria},MODE={self.modo},\"\\\n",
    "                    f\"TENSE={self.tiempo},PER={self.persona},\"\\\n",
    "                    f\"NUM={self.numero},SEM=<\\e.({self.lemma}(e) \"\\\n",
    "                    f\"& {self.tiempo}(e))>] -> '{self.shape}'\"\n",
    "        if self.category == \"N\":\n",
    "            rule = f\"{self.category}[NUM={self.numero},GEN={self.genero},\"\\\n",
    "                    f\"SEM=<\\\\x.({self.lemma}(x))>] -> '{self.shape}'\"\n",
    "        if self.category == \"A\":\n",
    "            if self.subcategoria != \"pron\":\n",
    "                rule = f\"{self.category}[NUM={self.numero},GEN={self.genero},\"\\\n",
    "                    f\"SUBCAT={self.subcategoria}, FUNCTION={self.funcion},\"\\\n",
    "                    f\"SEM=<\\\\x.({self.lemma}(x))>] -> '{self.shape}'\"\n",
    "            elif self.category == \"A\" and self.subcategoria == \"pron\":\n",
    "                rule = f\"{self.category}[NUM={self.numero},GEN={self.genero},\"\\\n",
    "                    f\"SUBCAT={self.subcategoria},\"\\\n",
    "                    f\"SEM=<\\\\x.(de-{self.funcion}-persona(x))>] -> '{self.shape}'\"\n",
    "        return rule          "
   ]
  },
  {
   "cell_type": "code",
   "execution_count": null,
   "metadata": {},
   "outputs": [],
   "source": [
    "def load_vocabulary():\n",
    "    freeling_all = list()\n",
    "    vocab_df = pd.DataFrame()\n",
    "    for freeling_file in glob.glob(\"./freeling/*.*.txt\"):\n",
    "        vocab_df = vocab_df.append(pd.read_csv(freeling_file, sep=\" \",names=[\"forma\",\"lema\",\"tag\"]))\n",
    "    return vocab_df\n",
    "\n",
    "def create_tmp_grammar():\n",
    "    tmp_grammar = \"tmp_grammar.fcfg\"\n",
    "    copyfile(\"../grammars/GramaticaDeRasgosBase.txt\", tmp_grammar)\n",
    "    return tmp_grammar\n",
    "    \n",
    "\n",
    "def append_rules_to_grammar(rules):\n",
    "    with open(\"tmp_grammar.fcfg\",\"a+\") as current_grammar:\n",
    "        for rule in rules:\n",
    "             current_grammar.write(f\"{rule}\\n\")\n"
   ]
  },
  {
   "cell_type": "code",
   "execution_count": null,
   "metadata": {},
   "outputs": [],
   "source": [
    "def get_rules(word):\n",
    "    word_rules = list()\n",
    "    word_in_vocab = json.loads(vocab_df[vocab_df.forma == word].to_json(orient=\"records\"))\n",
    "    for entry in word_in_vocab:\n",
    "        word_rules.append(MakeRule(entry).rule)\n",
    "    return word_rules"
   ]
  },
  {
   "cell_type": "code",
   "execution_count": null,
   "metadata": {},
   "outputs": [],
   "source": [
    "def interpret_sentence(sentence):\n",
    "    tmp_grammar = create_tmp_grammar()\n",
    "    tok_sentence = nltk.tokenize.word_tokenize(sentence)\n",
    "    for word in set(tok_sentence):\n",
    "        rules = get_rules(word)\n",
    "        append_rules_to_grammar(rules)\n",
    "    interpretation = nltk.interpret_sents([sentence], tmp_grammar)\n",
    "    os.remove(tmp_grammar)\n",
    "    return interpretation\n"
   ]
  },
  {
   "cell_type": "code",
   "execution_count": null,
   "metadata": {},
   "outputs": [],
   "source": [
    "vocab_df = load_vocabulary()"
   ]
  },
  {
   "cell_type": "code",
   "execution_count": null,
   "metadata": {},
   "outputs": [],
   "source": [
    "sentence = \"vos repiqueteás\"\n",
    "interpretation = interpret_sentence(sentence)"
   ]
  },
  {
   "cell_type": "code",
   "execution_count": null,
   "metadata": {},
   "outputs": [],
   "source": [
    "print(interpretation)"
   ]
  },
  {
   "cell_type": "code",
   "execution_count": null,
   "metadata": {},
   "outputs": [],
   "source": [
    "for results in interpretation:\n",
    "    for (synrep, semrep) in results:\n",
    "        print(semrep)"
   ]
  },
  {
   "cell_type": "code",
   "execution_count": null,
   "metadata": {},
   "outputs": [],
   "source": []
  },
  {
   "cell_type": "code",
   "execution_count": null,
   "metadata": {},
   "outputs": [],
   "source": []
  }
 ],
 "metadata": {
  "kernelspec": {
   "display_name": "Python 3",
   "language": "python",
   "name": "python3"
  },
  "language_info": {
   "codemirror_mode": {
    "name": "ipython",
    "version": 3
   },
   "file_extension": ".py",
   "mimetype": "text/x-python",
   "name": "python",
   "nbconvert_exporter": "python",
   "pygments_lexer": "ipython3",
   "version": "3.6.9"
  }
 },
 "nbformat": 4,
 "nbformat_minor": 2
}
